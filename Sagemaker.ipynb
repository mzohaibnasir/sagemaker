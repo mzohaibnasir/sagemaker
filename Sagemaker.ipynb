{
 "cells": [
  {
   "cell_type": "markdown",
   "id": "497d7c5b",
   "metadata": {},
   "source": [
    "# Steps to be followed\n",
    "1. Import necessary libraries\n",
    "2. create s3 bucket ( for training data, testing data and to save model)\n",
    "3. Mapping train & test data in s3\n",
    "4. Mapping the path of models in s3"
   ]
  },
  {
   "cell_type": "code",
   "execution_count": 1,
   "id": "f2d0927b",
   "metadata": {},
   "outputs": [
    {
     "name": "stderr",
     "output_type": "stream",
     "text": [
      "/home/ec2-user/anaconda3/envs/python3/lib/python3.10/site-packages/pandas/core/computation/expressions.py:21: UserWarning: Pandas requires version '2.8.0' or newer of 'numexpr' (version '2.7.3' currently installed).\n",
      "  from pandas.core.computation.check import NUMEXPR_INSTALLED\n"
     ]
    },
    {
     "name": "stdout",
     "output_type": "stream",
     "text": [
      "sagemaker.config INFO - Not applying SDK defaults from location: /etc/xdg/sagemaker/config.yaml\n",
      "sagemaker.config INFO - Not applying SDK defaults from location: /home/ec2-user/.config/sagemaker/config.yaml\n"
     ]
    }
   ],
   "source": [
    "import sagemaker\n",
    "import boto3 # with boto3 you can read public s3 bucket from your local system\n",
    "from sagemaker.amazon.amazon_estimator import get_image_uri\n",
    "from sagemaker.session import s3_input, Session"
   ]
  },
  {
   "cell_type": "code",
   "execution_count": 2,
   "id": "99508e4b",
   "metadata": {},
   "outputs": [
    {
     "name": "stdout",
     "output_type": "stream",
     "text": [
      "us-east-1\n"
     ]
    }
   ],
   "source": [
    "my_region = boto3.session.Session().region_name # set the region of the instance\n",
    "# because based on region name \n",
    "print(my_region)"
   ]
  },
  {
   "cell_type": "code",
   "execution_count": 3,
   "id": "aab28f88",
   "metadata": {},
   "outputs": [
    {
     "name": "stdout",
     "output_type": "stream",
     "text": [
      "S3 bucket created successfully\n"
     ]
    }
   ],
   "source": [
    "# create bucket\n",
    "bucket_name = 'zohaibsnotebookbucket'\n",
    "\n",
    "s3 = boto3.resource('s3')\n",
    "\n",
    "try:\n",
    "    if my_region == 'us-east-1':\n",
    "        s3.create_bucket(Bucket = bucket_name)\n",
    "    print('S3 bucket created successfully')\n",
    "    \n",
    "except Exception as e:\n",
    "    print('S3 error:',e)"
   ]
  },
  {
   "cell_type": "code",
   "execution_count": 4,
   "id": "219de66f",
   "metadata": {},
   "outputs": [
    {
     "name": "stdout",
     "output_type": "stream",
     "text": [
      "s3://zohaibsnotebookbucket/models/output\n"
     ]
    }
   ],
   "source": [
    "# set an output path where the trained model will be saved\n",
    "prefix = 'models'\n",
    "output_path = 's3://{}/{}/output'.format(bucket_name, prefix)\n",
    "print(output_path)"
   ]
  },
  {
   "cell_type": "markdown",
   "id": "0d1a6109",
   "metadata": {},
   "source": [
    "## Downloading The Dataset And Storing in S3( DATA INGESTION)\n"
   ]
  },
  {
   "cell_type": "code",
   "execution_count": 5,
   "id": "47ed0e94",
   "metadata": {},
   "outputs": [
    {
     "name": "stdout",
     "output_type": "stream",
     "text": [
      "Success: downloaded bank_clean.csv.\n",
      "Success: Data loaded into dataframe.\n"
     ]
    }
   ],
   "source": [
    "import pandas as pd\n",
    "import urllib\n",
    "try:\n",
    "    urllib.request.urlretrieve (\"https://d1.awsstatic.com/tmt/build-train-deploy-machine-learning-model-sagemaker/bank_clean.27f01fbbdf43271788427f3682996ae29ceca05d.csv\", \"bank_clean.csv\")\n",
    "    print('Success: downloaded bank_clean.csv.')\n",
    "except Exception as e:\n",
    "    print('Data load error: ',e)\n",
    "\n",
    "try:\n",
    "    model_data = pd.read_csv('./bank_clean.csv',index_col=0)\n",
    "    print('Success: Data loaded into dataframe.')\n",
    "except Exception as e:\n",
    "    print('Data load error: ',e)"
   ]
  },
  {
   "cell_type": "code",
   "execution_count": 6,
   "id": "059aef88",
   "metadata": {},
   "outputs": [
    {
     "name": "stdout",
     "output_type": "stream",
     "text": [
      "(28831, 61) (12357, 61)\n"
     ]
    },
    {
     "name": "stderr",
     "output_type": "stream",
     "text": [
      "/home/ec2-user/anaconda3/envs/python3/lib/python3.10/site-packages/numpy/core/fromnumeric.py:57: FutureWarning: 'DataFrame.swapaxes' is deprecated and will be removed in a future version. Please use 'DataFrame.transpose' instead.\n",
      "  return bound(*args, **kwds)\n"
     ]
    }
   ],
   "source": [
    "import numpy as np\n",
    "train_data, test_data = np.split(\n",
    "    model_data.sample(frac=1, random_state=1729), \n",
    "    [int(0.7 * len(model_data))]\n",
    ")\n",
    "                                \n",
    "\n",
    "print(train_data.shape, test_data.shape)"
   ]
  },
  {
   "cell_type": "code",
   "execution_count": 7,
   "id": "9e4ea0eb",
   "metadata": {},
   "outputs": [
    {
     "data": {
      "text/plain": [
       "'In SageMaker, when using the Linear Learner algorithm, the first column in your dataset should be the \\ndependent variable, which is the target variable for prediction. '"
      ]
     },
     "execution_count": 7,
     "metadata": {},
     "output_type": "execute_result"
    }
   ],
   "source": [
    "\"\"\"In SageMaker, when using the Linear Learner algorithm, the first column in your dataset should be the \n",
    "dependent variable, which is the target variable for prediction. \"\"\""
   ]
  },
  {
   "cell_type": "code",
   "execution_count": 8,
   "id": "c9060677",
   "metadata": {},
   "outputs": [
    {
     "data": {
      "text/plain": [
       "<sagemaker.inputs.TrainingInput at 0x7ff4d2790fd0>"
      ]
     },
     "execution_count": 8,
     "metadata": {},
     "output_type": "execute_result"
    }
   ],
   "source": [
    "### Saving Train And Test Into Buckets\n",
    "\n",
    "import os\n",
    "import pandas as pd\n",
    "\n",
    "train_combined = pd.concat(\n",
    "    [train_data['y_yes'], \n",
    "    train_data.drop(['y_no', 'y_yes'], \n",
    "                    axis=1)], \n",
    "    axis=1)\n",
    "\n",
    "# 2. Save the combined DataFrame as a CSV file without index and header\n",
    "train_combined.to_csv(\n",
    "    'train.csv', \n",
    "    index=False, \n",
    "    header=False)\n",
    "\n",
    "\n",
    "boto3.resource('s3').Object(\n",
    "    bucket_name,\n",
    "    os.path.join( prefix, 'train/train.csv')\n",
    ").upload_file('train.csv')\n",
    "\n",
    "\n",
    "\n",
    "s3_input_train = sagemaker.TrainingInput(\n",
    "    s3_data='s3://{}/{}/train'.format(bucket_name, prefix), \n",
    "    content_type='csv'\n",
    ")\n",
    "\n",
    "s3_input_train"
   ]
  },
  {
   "cell_type": "code",
   "execution_count": 9,
   "id": "b2d58983",
   "metadata": {},
   "outputs": [
    {
     "data": {
      "text/plain": [
       "<sagemaker.inputs.TrainingInput at 0x7ff4d1e77b20>"
      ]
     },
     "execution_count": 9,
     "metadata": {},
     "output_type": "execute_result"
    }
   ],
   "source": [
    "# Test Data Into Buckets\n",
    "\n",
    "pd.concat(\n",
    "    [test_data['y_yes'], \n",
    "    test_data.drop(\n",
    "        ['y_no', 'y_yes'], \n",
    "        axis=1\n",
    "    )], \n",
    "    axis=1\n",
    "\n",
    ").to_csv('test.csv',\n",
    "         index=False,\n",
    "         header=False)\n",
    "\n",
    "\n",
    "\n",
    "boto3.resource('s3').Object(\n",
    "    bucket_name,\n",
    "    os.path.join(prefix, 'test/test.csv')\n",
    ").upload_file('test.csv')\n",
    "\n",
    "\n",
    "\n",
    "\n",
    "s3_input_test = sagemaker.TrainingInput(\n",
    "    s3_data='s3://{}/{}/test'.format(bucket_name, prefix), \n",
    "    content_type='csv')\n",
    "s3_input_test"
   ]
  },
  {
   "cell_type": "raw",
   "id": "85eab1ac",
   "metadata": {},
   "source": []
  },
  {
   "cell_type": "code",
   "execution_count": 10,
   "id": "a03880fe",
   "metadata": {},
   "outputs": [
    {
     "name": "stdout",
     "output_type": "stream",
     "text": [
      "683313688378.dkr.ecr.us-east-1.amazonaws.com/sagemaker-xgboost:1.0-1-cpu-py3\n"
     ]
    }
   ],
   "source": [
    "# this line automatically looks for the XGBoost image URI and builds an XGBoost container.\n",
    "# specify the repo_version depending on your preference.\n",
    "container = sagemaker.image_uris.retrieve(\n",
    "    region = boto3.Session().region_name,                          \n",
    "    framework ='xgboost',\n",
    "    version='1.0-1'\n",
    ")\n",
    "print(container)"
   ]
  },
  {
   "cell_type": "code",
   "execution_count": 11,
   "id": "9c99838b",
   "metadata": {},
   "outputs": [],
   "source": [
    "# sagemaker.image_uris.retrieve(\n",
    "#     region = boto3.Session().region_name,                          \n",
    "#     version='1.0-1'\n",
    "# )"
   ]
  },
  {
   "cell_type": "markdown",
   "id": "19160bb6",
   "metadata": {},
   "source": []
  },
  {
   "cell_type": "code",
   "execution_count": 12,
   "id": "25b62604",
   "metadata": {},
   "outputs": [],
   "source": [
    "hyperparameters = {\n",
    "#     \"max-depth\" : 5,\n",
    "    \"eta\":\"0.2\",\n",
    "    \"gamma\":\"4\",\n",
    "    \"min_child_weight\":\"6\",\n",
    "    \"subsample\":\"0.7\",\n",
    "    \"objective\":\"binary:logistic\",\n",
    "    \n",
    "#     \"max-depth\":\"16\",\n",
    "    \"num_round\":50\n",
    "}"
   ]
  },
  {
   "cell_type": "code",
   "execution_count": null,
   "id": "91c3bf95",
   "metadata": {},
   "outputs": [],
   "source": []
  },
  {
   "cell_type": "code",
   "execution_count": 13,
   "id": "c8296f48",
   "metadata": {},
   "outputs": [
    {
     "data": {
      "text/plain": [
       "<sagemaker.estimator.Estimator at 0x7ff4d192bbe0>"
      ]
     },
     "execution_count": 13,
     "metadata": {},
     "output_type": "execute_result"
    }
   ],
   "source": [
    "# construct a SageMaker estimator that calls the xgboost-container\n",
    "estimator = sagemaker.estimator.Estimator(image_uri=container, \n",
    "                                          hyperparameters=hyperparameters,\n",
    "                                          role=sagemaker.get_execution_role(), #IAM role\n",
    "                                          instance_count=1, \n",
    "                                          instance_type='ml.m5.2xlarge', \n",
    "                                          volume_size=5, # 5 GB \n",
    "                                          output_path=output_path,\n",
    "                                          # to reduce billing price, use followng 3\n",
    "                                          use_spot_instances=True,\n",
    "                                          max_run=300,\n",
    "                                          max_wait=600)\n",
    "\n",
    "\n",
    "# shift+tab\n",
    "estimator"
   ]
  },
  {
   "cell_type": "code",
   "execution_count": 14,
   "id": "46e0f8a8",
   "metadata": {
    "scrolled": false
   },
   "outputs": [
    {
     "name": "stderr",
     "output_type": "stream",
     "text": [
      "INFO:sagemaker:Creating training-job with name: sagemaker-xgboost-2024-03-01-14-49-51-825\n"
     ]
    },
    {
     "name": "stdout",
     "output_type": "stream",
     "text": [
      "2024-03-01 14:49:51 Starting - Starting the training job...\n",
      "2024-03-01 14:50:07 Starting - Preparing the instances for training...\n",
      "2024-03-01 14:50:37 Downloading - Downloading input data...\n",
      "2024-03-01 14:51:18 Training - Training image download completed. Training in progress....\n",
      "2024-03-01 14:51:44 Uploading - Uploading generated training model\u001b[34m[2024-03-01 14:51:39.101 ip-10-2-195-220.ec2.internal:7 INFO utils.py:27] RULE_JOB_STOP_SIGNAL_FILENAME: None\u001b[0m\n",
      "\u001b[34mINFO:sagemaker-containers:Imported framework sagemaker_xgboost_container.training\u001b[0m\n",
      "\u001b[34mINFO:sagemaker-containers:Failed to parse hyperparameter objective value binary:logistic to Json.\u001b[0m\n",
      "\u001b[34mReturning the value itself\u001b[0m\n",
      "\u001b[34mINFO:sagemaker-containers:No GPUs detected (normal if no gpus installed)\u001b[0m\n",
      "\u001b[34mINFO:sagemaker_xgboost_container.training:Running XGBoost Sagemaker in algorithm mode\u001b[0m\n",
      "\u001b[34mINFO:root:Determined delimiter of CSV input is ','\u001b[0m\n",
      "\u001b[34mINFO:root:Determined delimiter of CSV input is ','\u001b[0m\n",
      "\u001b[34mINFO:root:Determined delimiter of CSV input is ','\u001b[0m\n",
      "\u001b[34mINFO:root:Determined delimiter of CSV input is ','\u001b[0m\n",
      "\u001b[34mINFO:root:Single node training.\u001b[0m\n",
      "\u001b[34m[14:51:39] 28831x59 matrix with 1701029 entries loaded from /opt/ml/input/data/train?format=csv&label_column=0&delimiter=,\u001b[0m\n",
      "\u001b[34m[14:51:39] 12357x59 matrix with 729063 entries loaded from /opt/ml/input/data/validation?format=csv&label_column=0&delimiter=,\u001b[0m\n",
      "\u001b[34m[2024-03-01 14:51:39.271 ip-10-2-195-220.ec2.internal:7 INFO json_config.py:91] Creating hook from json_config at /opt/ml/input/config/debughookconfig.json.\u001b[0m\n",
      "\u001b[34m[2024-03-01 14:51:39.272 ip-10-2-195-220.ec2.internal:7 INFO hook.py:201] tensorboard_dir has not been set for the hook. SMDebug will not be exporting tensorboard summaries.\u001b[0m\n",
      "\u001b[34m[2024-03-01 14:51:39.272 ip-10-2-195-220.ec2.internal:7 INFO profiler_config_parser.py:102] User has disabled profiler.\u001b[0m\n",
      "\u001b[34mINFO:root:Debug hook created from config\u001b[0m\n",
      "\u001b[34mINFO:root:Train matrix has 28831 rows\u001b[0m\n",
      "\u001b[34mINFO:root:Validation matrix has 12357 rows\u001b[0m\n",
      "\u001b[34m[2024-03-01 14:51:39.273 ip-10-2-195-220.ec2.internal:7 INFO hook.py:255] Saving to /opt/ml/output/tensors\u001b[0m\n",
      "\u001b[34m[2024-03-01 14:51:39.273 ip-10-2-195-220.ec2.internal:7 INFO state_store.py:77] The checkpoint config file /opt/ml/input/config/checkpointconfig.json does not exist.\u001b[0m\n",
      "\u001b[34m[14:51:39] WARNING: /workspace/src/learner.cc:328: \u001b[0m\n",
      "\u001b[34mParameters: { num_round } might not be used.\n",
      "  This may not be accurate due to some parameters are only used in language bindings but\n",
      "  passed down to XGBoost core.  Or some parameters are not used but slip through this\n",
      "  verification. Please open an issue if you find above cases.\u001b[0m\n",
      "\u001b[34m[0]#011train-error:0.10079#011validation-error:0.10528\u001b[0m\n",
      "\u001b[34m[2024-03-01 14:51:39.336 ip-10-2-195-220.ec2.internal:7 INFO hook.py:423] Monitoring the collections: metrics\u001b[0m\n",
      "\u001b[34m[2024-03-01 14:51:39.338 ip-10-2-195-220.ec2.internal:7 INFO hook.py:486] Hook is writing from the hook with pid: 7\u001b[0m\n",
      "\u001b[34m[1]#011train-error:0.09965#011validation-error:0.10358\u001b[0m\n",
      "\u001b[34m[2]#011train-error:0.09996#011validation-error:0.10464\u001b[0m\n",
      "\u001b[34m[3]#011train-error:0.09961#011validation-error:0.10350\u001b[0m\n",
      "\u001b[34m[4]#011train-error:0.09975#011validation-error:0.10334\u001b[0m\n",
      "\u001b[34m[5]#011train-error:0.09913#011validation-error:0.10318\u001b[0m\n",
      "\u001b[34m[6]#011train-error:0.09944#011validation-error:0.10342\u001b[0m\n",
      "\u001b[34m[7]#011train-error:0.09930#011validation-error:0.10310\u001b[0m\n",
      "\u001b[34m[8]#011train-error:0.09896#011validation-error:0.10261\u001b[0m\n",
      "\u001b[34m[9]#011train-error:0.09875#011validation-error:0.10278\u001b[0m\n",
      "\u001b[34m[10]#011train-error:0.09906#011validation-error:0.10326\u001b[0m\n",
      "\u001b[34m[11]#011train-error:0.09857#011validation-error:0.10310\u001b[0m\n",
      "\u001b[34m[12]#011train-error:0.09840#011validation-error:0.10318\u001b[0m\n",
      "\u001b[34m[13]#011train-error:0.09830#011validation-error:0.10326\u001b[0m\n",
      "\u001b[34m[14]#011train-error:0.09819#011validation-error:0.10358\u001b[0m\n",
      "\u001b[34m[15]#011train-error:0.09802#011validation-error:0.10358\u001b[0m\n",
      "\u001b[34m[16]#011train-error:0.09792#011validation-error:0.10350\u001b[0m\n",
      "\u001b[34m[17]#011train-error:0.09802#011validation-error:0.10358\u001b[0m\n",
      "\u001b[34m[18]#011train-error:0.09805#011validation-error:0.10431\u001b[0m\n",
      "\u001b[34m[19]#011train-error:0.09795#011validation-error:0.10431\u001b[0m\n",
      "\u001b[34m[20]#011train-error:0.09805#011validation-error:0.10399\u001b[0m\n",
      "\u001b[34m[21]#011train-error:0.09743#011validation-error:0.10439\u001b[0m\n",
      "\u001b[34m[22]#011train-error:0.09771#011validation-error:0.10391\u001b[0m\n",
      "\u001b[34m[23]#011train-error:0.09778#011validation-error:0.10439\u001b[0m\n",
      "\u001b[34m[24]#011train-error:0.09771#011validation-error:0.10407\u001b[0m\n",
      "\u001b[34m[25]#011train-error:0.09767#011validation-error:0.10407\u001b[0m\n",
      "\u001b[34m[26]#011train-error:0.09767#011validation-error:0.10391\u001b[0m\n",
      "\u001b[34m[27]#011train-error:0.09739#011validation-error:0.10439\u001b[0m\n",
      "\u001b[34m[28]#011train-error:0.09746#011validation-error:0.10399\u001b[0m\n",
      "\u001b[34m[29]#011train-error:0.09726#011validation-error:0.10391\u001b[0m\n",
      "\u001b[34m[30]#011train-error:0.09708#011validation-error:0.10383\u001b[0m\n",
      "\u001b[34m[31]#011train-error:0.09712#011validation-error:0.10350\u001b[0m\n",
      "\u001b[34m[32]#011train-error:0.09701#011validation-error:0.10375\u001b[0m\n",
      "\u001b[34m[33]#011train-error:0.09698#011validation-error:0.10326\u001b[0m\n",
      "\u001b[34m[34]#011train-error:0.09681#011validation-error:0.10310\u001b[0m\n",
      "\u001b[34m[35]#011train-error:0.09691#011validation-error:0.10269\u001b[0m\n",
      "\u001b[34m[36]#011train-error:0.09667#011validation-error:0.10294\u001b[0m\n",
      "\u001b[34m[37]#011train-error:0.09698#011validation-error:0.10318\u001b[0m\n",
      "\u001b[34m[38]#011train-error:0.09667#011validation-error:0.10367\u001b[0m\n",
      "\u001b[34m[39]#011train-error:0.09660#011validation-error:0.10326\u001b[0m\n",
      "\u001b[34m[40]#011train-error:0.09646#011validation-error:0.10326\u001b[0m\n",
      "\u001b[34m[41]#011train-error:0.09604#011validation-error:0.10278\u001b[0m\n",
      "\u001b[34m[42]#011train-error:0.09594#011validation-error:0.10253\u001b[0m\n",
      "\u001b[34m[43]#011train-error:0.09594#011validation-error:0.10261\u001b[0m\n",
      "\u001b[34m[44]#011train-error:0.09590#011validation-error:0.10261\u001b[0m\n",
      "\u001b[34m[45]#011train-error:0.09594#011validation-error:0.10302\u001b[0m\n",
      "\u001b[34m[46]#011train-error:0.09618#011validation-error:0.10269\u001b[0m\n",
      "\u001b[34m[47]#011train-error:0.09604#011validation-error:0.10318\u001b[0m\n",
      "\u001b[34m[48]#011train-error:0.09615#011validation-error:0.10302\u001b[0m\n",
      "\u001b[34m[49]#011train-error:0.09615#011validation-error:0.10326\u001b[0m\n",
      "\n",
      "2024-03-01 14:51:55 Completed - Training job completed\n",
      "Training seconds: 78\n",
      "Billable seconds: 30\n",
      "Managed Spot Training savings: 61.5%\n"
     ]
    }
   ],
   "source": [
    "estimator.fit({\n",
    "    'train': s3_input_train,\n",
    "    'validation': s3_input_test\n",
    "})"
   ]
  },
  {
   "cell_type": "code",
   "execution_count": null,
   "id": "0cd7b22b",
   "metadata": {},
   "outputs": [],
   "source": []
  },
  {
   "cell_type": "markdown",
   "id": "a362dc73",
   "metadata": {},
   "source": [
    "## Deploy ML model"
   ]
  },
  {
   "cell_type": "code",
   "execution_count": 15,
   "id": "b6e1a74e",
   "metadata": {
    "scrolled": false
   },
   "outputs": [
    {
     "name": "stderr",
     "output_type": "stream",
     "text": [
      "INFO:sagemaker:Creating model with name: sagemaker-xgboost-2024-03-01-14-52-33-903\n",
      "INFO:sagemaker:Creating endpoint-config with name sagemaker-xgboost-2024-03-01-14-52-33-903\n",
      "INFO:sagemaker:Creating endpoint with name sagemaker-xgboost-2024-03-01-14-52-33-903\n"
     ]
    },
    {
     "name": "stdout",
     "output_type": "stream",
     "text": [
      "------!"
     ]
    },
    {
     "data": {
      "text/plain": [
       "<sagemaker.base_predictor.Predictor at 0x7ff4d1e3ee60>"
      ]
     },
     "execution_count": 15,
     "metadata": {},
     "output_type": "execute_result"
    }
   ],
   "source": [
    "xgb_predictor = estimator.deploy(initial_instance_count=1,\n",
    "                                instance_type='ml.m4.xlarge')\n",
    "xgb_predictor"
   ]
  },
  {
   "cell_type": "markdown",
   "id": "36359e30",
   "metadata": {},
   "source": [
    "# Prediction of test data"
   ]
  },
  {
   "cell_type": "code",
   "execution_count": 18,
   "id": "6ba15e04",
   "metadata": {},
   "outputs": [
    {
     "name": "stdout",
     "output_type": "stream",
     "text": [
      "(12357,)\n"
     ]
    }
   ],
   "source": [
    "from sagemaker.serializers import CSVSerializer\n",
    "test_data_array = test_data.drop(['y_no', 'y_yes'], axis=1).values #load the data into an array\n",
    "xgb_predictor.content_type = 'text/csv' # set the data type for an inference\n",
    "xgb_predictor.serializer = CSVSerializer() # set the serializer type\n",
    "predictions = xgb_predictor.predict(test_data_array).decode('utf-8') # predict!\n",
    "predictions_array = np.fromstring(predictions[1:], sep=',') # and turn the prediction into an array\n",
    "print(predictions_array.shape)"
   ]
  },
  {
   "cell_type": "code",
   "execution_count": 19,
   "id": "a084e8e1",
   "metadata": {},
   "outputs": [
    {
     "data": {
      "text/plain": [
       "array([0.04345566, 0.05905825, 0.0395886 , ..., 0.04037751, 0.03186692,\n",
       "       0.06086195])"
      ]
     },
     "execution_count": 19,
     "metadata": {},
     "output_type": "execute_result"
    }
   ],
   "source": [
    "predictions_array"
   ]
  },
  {
   "cell_type": "code",
   "execution_count": 20,
   "id": "e32931a6",
   "metadata": {},
   "outputs": [
    {
     "name": "stdout",
     "output_type": "stream",
     "text": [
      "\n",
      "Overall Classification Rate: 89.7%\n",
      "\n",
      "Predicted      No Purchase    Purchase\n",
      "Observed\n",
      "No Purchase    91% (10771)    35% (165)\n",
      "Purchase        9% (1111)     65% (310) \n",
      "\n"
     ]
    }
   ],
   "source": [
    "cm = pd.crosstab(index=test_data['y_yes'], columns=np.round(predictions_array), rownames=['Observed'], colnames=['Predicted'])\n",
    "tn = cm.iloc[0,0]; fn = cm.iloc[1,0]; tp = cm.iloc[1,1]; fp = cm.iloc[0,1]; p = (tp+tn)/(tp+tn+fp+fn)*100\n",
    "print(\"\\n{0:<20}{1:<4.1f}%\\n\".format(\"Overall Classification Rate: \", p))\n",
    "print(\"{0:<15}{1:<15}{2:>8}\".format(\"Predicted\", \"No Purchase\", \"Purchase\"))\n",
    "print(\"Observed\")\n",
    "print(\"{0:<15}{1:<2.0f}% ({2:<}){3:>6.0f}% ({4:<})\".format(\"No Purchase\", tn/(tn+fn)*100,tn, fp/(tp+fp)*100, fp))\n",
    "print(\"{0:<16}{1:<1.0f}% ({2:<}){3:>7.0f}% ({4:<}) \\n\".format(\"Purchase\", fn/(tn+fn)*100,fn, tp/(tp+fp)*100, tp))"
   ]
  },
  {
   "cell_type": "code",
   "execution_count": 21,
   "id": "8bfca41d",
   "metadata": {},
   "outputs": [
    {
     "name": "stderr",
     "output_type": "stream",
     "text": [
      "WARNING:sagemaker.deprecations:The endpoint attribute has been renamed in sagemaker>=2.\n",
      "See: https://sagemaker.readthedocs.io/en/stable/v2.html for details.\n",
      "INFO:sagemaker:Deleting endpoint with name: sagemaker-xgboost-2024-03-01-14-52-33-903\n"
     ]
    },
    {
     "data": {
      "text/plain": [
       "[{'ResponseMetadata': {'RequestId': 'TES8D4114RFDSCJ2',\n",
       "   'HostId': 'XLZduwPavgBDNoR2281GaHg99uyZNuSch+y8plenuJSEg1kHARECEpIiUT0OKUuFJIqo149pLJc=',\n",
       "   'HTTPStatusCode': 200,\n",
       "   'HTTPHeaders': {'x-amz-id-2': 'XLZduwPavgBDNoR2281GaHg99uyZNuSch+y8plenuJSEg1kHARECEpIiUT0OKUuFJIqo149pLJc=',\n",
       "    'x-amz-request-id': 'TES8D4114RFDSCJ2',\n",
       "    'date': 'Fri, 01 Mar 2024 15:31:04 GMT',\n",
       "    'content-type': 'application/xml',\n",
       "    'transfer-encoding': 'chunked',\n",
       "    'server': 'AmazonS3',\n",
       "    'connection': 'close'},\n",
       "   'RetryAttempts': 0},\n",
       "  'Deleted': [{'Key': 'models/output/sagemaker-xgboost-2024-03-01-14-49-51-825/debug-output/events/000000000000/000000000000_worker_0.tfevents'},\n",
       "   {'Key': 'models/output/sagemaker-xgboost-2024-03-01-14-49-51-825/debug-output/events/000000000010/000000000010_worker_0.tfevents'},\n",
       "   {'Key': 'models/output/sagemaker-xgboost-2024-03-01-14-49-51-825/debug-output/index/000000000/000000000030_worker_0.json'},\n",
       "   {'Key': 'models/output/sagemaker-xgboost-2024-03-01-14-49-51-825/debug-output/events/000000000040/000000000040_worker_0.tfevents'},\n",
       "   {'Key': 'models/output/sagemaker-xgboost-2024-03-01-14-49-51-825/debug-output/events/000000000030/000000000030_worker_0.tfevents'},\n",
       "   {'Key': 'models/output/sagemaker-xgboost-2024-03-01-14-49-51-825/debug-output/events/000000000020/000000000020_worker_0.tfevents'},\n",
       "   {'Key': 'models/output/sagemaker-xgboost-2024-03-01-14-49-51-825/profiler-output/system/incremental/2024030114/1709304660.algo-1.json'},\n",
       "   {'Key': 'models/output/sagemaker-xgboost-2024-03-01-14-49-51-825/debug-output/training_job_end.ts'},\n",
       "   {'Key': 'models/output/sagemaker-xgboost-2024-03-01-14-49-51-825/debug-output/index/000000000/000000000010_worker_0.json'},\n",
       "   {'Key': 'models/output/sagemaker-xgboost-2024-03-01-14-49-51-825/debug-output/index/000000000/000000000020_worker_0.json'},\n",
       "   {'Key': 'models/output/sagemaker-xgboost-2024-03-01-14-49-51-825/debug-output/claim.smd'},\n",
       "   {'Key': 'models/output/sagemaker-xgboost-2024-03-01-14-49-51-825/debug-output/index/000000000/000000000000_worker_0.json'},\n",
       "   {'Key': 'models/output/sagemaker-xgboost-2024-03-01-14-49-51-825/debug-output/index/000000000/000000000040_worker_0.json'},\n",
       "   {'Key': 'models/output/sagemaker-xgboost-2024-03-01-14-49-51-825/profiler-output/system/incremental/2024030114/1709304600.algo-1.json'},\n",
       "   {'Key': 'models/output/sagemaker-xgboost-2024-03-01-14-49-51-825/profiler-output/system/training_job_end.ts'},\n",
       "   {'Key': 'models/train/train.csv'},\n",
       "   {'Key': 'models/test/test.csv'},\n",
       "   {'Key': 'models/output/sagemaker-xgboost-2024-03-01-14-49-51-825/output/model.tar.gz'},\n",
       "   {'Key': 'models/output/sagemaker-xgboost-2024-03-01-14-49-51-825/debug-output/collections/000000000/worker_0_collections.json'},\n",
       "   {'Key': 'models/output/sagemaker-xgboost-2024-03-01-14-49-51-825/profiler-output/framework/training_job_end.ts'}]}]"
      ]
     },
     "execution_count": 21,
     "metadata": {},
     "output_type": "execute_result"
    }
   ],
   "source": [
    "sagemaker.Session().delete_endpoint(xgb_predictor.endpoint)\n",
    "bucket_to_delete = boto3.resource('s3').Bucket(bucket_name)\n",
    "bucket_to_delete.objects.all().delete()"
   ]
  },
  {
   "cell_type": "code",
   "execution_count": null,
   "id": "2c73458b",
   "metadata": {},
   "outputs": [],
   "source": []
  },
  {
   "cell_type": "code",
   "execution_count": null,
   "id": "b70d4193",
   "metadata": {},
   "outputs": [],
   "source": []
  },
  {
   "cell_type": "code",
   "execution_count": null,
   "id": "87936f64",
   "metadata": {},
   "outputs": [],
   "source": []
  },
  {
   "cell_type": "code",
   "execution_count": null,
   "id": "6809c5a6",
   "metadata": {},
   "outputs": [],
   "source": []
  },
  {
   "cell_type": "code",
   "execution_count": null,
   "id": "bcb1124c",
   "metadata": {},
   "outputs": [],
   "source": []
  },
  {
   "cell_type": "code",
   "execution_count": null,
   "id": "39629709",
   "metadata": {},
   "outputs": [],
   "source": []
  },
  {
   "cell_type": "code",
   "execution_count": null,
   "id": "403a4ad2",
   "metadata": {},
   "outputs": [],
   "source": []
  },
  {
   "cell_type": "code",
   "execution_count": null,
   "id": "a90cc6a9",
   "metadata": {},
   "outputs": [],
   "source": []
  },
  {
   "cell_type": "code",
   "execution_count": null,
   "id": "0d34de76",
   "metadata": {},
   "outputs": [],
   "source": []
  },
  {
   "cell_type": "code",
   "execution_count": null,
   "id": "736e79ce",
   "metadata": {},
   "outputs": [],
   "source": []
  },
  {
   "cell_type": "code",
   "execution_count": null,
   "id": "f3853003",
   "metadata": {},
   "outputs": [],
   "source": []
  },
  {
   "cell_type": "code",
   "execution_count": null,
   "id": "e4ef2ce4",
   "metadata": {},
   "outputs": [],
   "source": []
  },
  {
   "cell_type": "code",
   "execution_count": null,
   "id": "f4e8855c",
   "metadata": {},
   "outputs": [],
   "source": []
  },
  {
   "cell_type": "code",
   "execution_count": null,
   "id": "19decfb9",
   "metadata": {},
   "outputs": [],
   "source": []
  },
  {
   "cell_type": "code",
   "execution_count": null,
   "id": "6ac91534",
   "metadata": {},
   "outputs": [],
   "source": []
  },
  {
   "cell_type": "code",
   "execution_count": null,
   "id": "9e392196",
   "metadata": {},
   "outputs": [],
   "source": []
  },
  {
   "cell_type": "code",
   "execution_count": null,
   "id": "ffd6b2b1",
   "metadata": {},
   "outputs": [],
   "source": []
  },
  {
   "cell_type": "code",
   "execution_count": null,
   "id": "04111c62",
   "metadata": {},
   "outputs": [],
   "source": []
  },
  {
   "cell_type": "code",
   "execution_count": null,
   "id": "c7594343",
   "metadata": {},
   "outputs": [],
   "source": []
  },
  {
   "cell_type": "code",
   "execution_count": null,
   "id": "5c829cbb",
   "metadata": {},
   "outputs": [],
   "source": []
  }
 ],
 "metadata": {
  "kernelspec": {
   "display_name": "conda_python3",
   "language": "python",
   "name": "conda_python3"
  },
  "language_info": {
   "codemirror_mode": {
    "name": "ipython",
    "version": 3
   },
   "file_extension": ".py",
   "mimetype": "text/x-python",
   "name": "python",
   "nbconvert_exporter": "python",
   "pygments_lexer": "ipython3",
   "version": "3.10.13"
  }
 },
 "nbformat": 4,
 "nbformat_minor": 5
}
